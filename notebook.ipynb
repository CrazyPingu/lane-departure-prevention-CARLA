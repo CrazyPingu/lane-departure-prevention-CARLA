{
 "cells": [
  {
   "cell_type": "code",
   "execution_count": 6,
   "metadata": {},
   "outputs": [],
   "source": [
    "import carla, time, pygame, math, random, cv2\n",
    "from carla import Sensor\n",
    "import math\n",
    "import numpy as np\n",
    "\n",
    "client = carla.Client('localhost', 2000)\n",
    "client.set_timeout(10.0)\n",
    "\n",
    "world = client.get_world()\n",
    "spectator = world.get_spectator()\n",
    "\n",
    "def move_spectator_to(transform, distance=5.0, x=0, y=0, z=4, yaw=0, pitch=-30, roll=0):\n",
    "    back_location = transform.location - transform.get_forward_vector() * distance\n",
    "    back_location.x += x\n",
    "    back_location.y += y\n",
    "    back_location.z += z\n",
    "    transform.rotation.yaw += yaw\n",
    "    transform.rotation.pitch = pitch\n",
    "    transform.rotation.roll = roll\n",
    "    spectator_transform = carla.Transform(back_location, transform.rotation)\n",
    "    spectator.set_transform(spectator_transform)\n",
    "\n",
    "def spawn_vehicle(vehicle_index=0, spawn_index=0, pattern='vehicle.mercedes.coupe_2020', rotation=None):\n",
    "    blueprint_library = world.get_blueprint_library()\n",
    "    vehicle_bp = blueprint_library.filter(pattern)[vehicle_index]\n",
    "    spawn_point = world.get_map().get_spawn_points()[spawn_index]\n",
    "    if rotation:\n",
    "        spawn_point.rotation = rotation\n",
    "    vehicle = world.spawn_actor(vehicle_bp, spawn_point)\n",
    "    return vehicle\n",
    "\n",
    "\n",
    "def draw_on_screen(world, transform, content='O', color=carla.Color(0, 255, 0), life_time=20):\n",
    "    world.debug.draw_string(transform.location, content, color=color, life_time=life_time)\n",
    "\n",
    "def spawn_camera(attach_to=None, transform=carla.Transform(carla.Location(x=1.2, z=1.2), carla.Rotation(pitch=-10)), width=800, height=600):\n",
    "    camera_bp = world.get_blueprint_library().find('sensor.camera.rgb')\n",
    "    camera_bp.set_attribute('image_size_x', str(width))\n",
    "    camera_bp.set_attribute('image_size_y', str(height))\n",
    "    camera = world.spawn_actor(camera_bp, transform, attach_to=attach_to)\n",
    "    return camera\n",
    "\n",
    "def spawn_radar(attach_to=None, transform=carla.Transform(carla.Location(x = 2.0, z=1.0)), horizontal_fov=10, range=100, vertical_fov=10, points_per_second=1500, sensor_tick=0.0):\n",
    "    radar_bp = world.get_blueprint_library().find('sensor.other.radar')\n",
    "    radar_bp.set_attribute('horizontal_fov', str(horizontal_fov))\n",
    "    radar_bp.set_attribute('range', str(range))\n",
    "    radar_bp.set_attribute('vertical_fov', str(vertical_fov))\n",
    "    radar_bp.set_attribute('points_per_second', str(points_per_second))\n",
    "    radar_bp.set_attribute('sensor_tick', str(sensor_tick))\n",
    "    radar = world.spawn_actor(radar_bp, transform=transform, attach_to=attach_to)\n",
    "    return radar\n",
    "\n",
    "def remove_all(world):\n",
    "    for a in world.get_actors().filter('vehicle.*'):\n",
    "        a.destroy()\n",
    "    for a in world.get_actors().filter('sensor.*'):\n",
    "        a.destroy()\n"
   ]
  },
  {
   "cell_type": "code",
   "execution_count": 7,
   "metadata": {},
   "outputs": [],
   "source": [
    "from utils.detector import Detector\n",
    "from utils.interpolator import Interpolator\n",
    "from utils.imagewarp import ImageWarp\n",
    "\n",
    "import matplotlib.pyplot as plt\n",
    "import matplotlib.gridspec as gridspec"
   ]
  },
  {
   "cell_type": "code",
   "execution_count": 19,
   "metadata": {},
   "outputs": [],
   "source": [
    "src=[[50, 240], [200, 240], [0, 0], [320, 0]]\n",
    "dst=[[135, 270], [150, 270], [0, 0], [320, 0]]\n",
    "scan_range={'start':0,'stop':240,'steps':10}\n",
    "scan_window={'height':8,'max_adjust':8}\n",
    "offset = 150\n",
    "\n",
    "DISPLAY_COLS = 1\n",
    "DISPLAY_ROWS = 2\n",
    "\n",
    "SAVE_RESULTS = False\n",
    "ESTIMATE_FROM_1_LANE = False\n",
    "\n",
    "if ESTIMATE_FROM_1_LANE == False:\n",
    "    lanes =[{'label':'mid','detections':{'start':{'x':115,'y':230},'stop':{'x':145,'y':230}}}, \n",
    "            {'label':'right','detections':{'start':{'x':145,'y':230},'stop':{'x':175,'y':230}}}\n",
    "           ]\n",
    "else:\n",
    "    lanes =[{'label':'right','detections':{'start':{'x':145,'y':230},'stop':{'x':175,'y':230}}}\n",
    "           ]\n",
    "\n",
    "iw_obj = ImageWarp(offset=offset,src=src,dst=dst)\n",
    "det_obj = Detector(scan_range=scan_range,scan_window=scan_window)\n",
    "ip_obj = Interpolator(max_poly_degree=2)\n",
    "\n",
    "a = True\n"
   ]
  },
  {
   "cell_type": "code",
   "execution_count": 9,
   "metadata": {},
   "outputs": [
    {
     "data": {
      "text/plain": [
       "<carla.libcarla.World at 0x1ca89bbcea0>"
      ]
     },
     "execution_count": 9,
     "metadata": {},
     "output_type": "execute_result"
    }
   ],
   "source": [
    "client.load_world('Town03')"
   ]
  },
  {
   "cell_type": "code",
   "execution_count": 20,
   "metadata": {},
   "outputs": [
    {
     "name": "stderr",
     "output_type": "stream",
     "text": [
      "INFO: listening to server 127.0.0.1:2000\n"
     ]
    },
    {
     "name": "stdout",
     "output_type": "stream",
     "text": [
      "\n",
      "Welcome to CARLA manual control.\n",
      "\n",
      "Use ARROWS or WASD keys for control.\n",
      "\n",
      "    W            : throttle\n",
      "    S            : brake\n",
      "    A/D          : steer left/right\n",
      "    Q            : toggle reverse\n",
      "    Space        : hand-brake\n",
      "\n",
      "    L            : toggle next light type\n",
      "    Z/X          : toggle right/left blinker\n",
      "\n",
      "    TAB          : change sensor position\n",
      "    ` or N       : next sensor\n",
      "    [1-9]        : change to sensor [1-9]\n",
      "    C            : change weather (Shift+C reverse)\n",
      "\n",
      "    F1           : toggle HUD\n",
      "    ESC          : quit\n",
      "\n",
      "\n",
      "Cancelled by user. Bye!\n"
     ]
    }
   ],
   "source": [
    "import manual_control\n",
    "from importlib import reload\n",
    "reload(manual_control)\n",
    "\n",
    "remove_all(world)\n",
    "\n",
    "game_loop = manual_control.setup()\n",
    "\n",
    "vehicle = world.get_actors().filter('vehicle.*')[0]\n",
    "front_camera = spawn_camera(attach_to=vehicle, transform=carla.Transform(\n",
    "        carla.Location(x=2, y=0.0, z=1.5), # specchietto retrovisore -> x=0.3, y=0.0, z=1.5),\n",
    "        carla.Rotation(pitch=-10.0)\n",
    "    ), width=320, height=240)\n",
    "\n",
    "video_output = None#np.zeros((600, 800, 4), dtype=np.uint8)\n",
    "\n",
    "def camera_callback(image):\n",
    "    global a\n",
    "    if a:\n",
    "        global video_output\n",
    "        video_output = np.reshape(np.copy(image.raw_data), (image.height, image.width, 4))\n",
    "        cv2.imwrite('test.png', video_output)\n",
    "        if video_output is not None:\n",
    "            a = False\n",
    "\n",
    "front_camera.listen(lambda image: camera_callback(image))\n",
    "\n",
    "try:\n",
    "    game_loop.start()\n",
    "except KeyboardInterrupt:\n",
    "    print('\\nCancelled by user. Bye!')\n",
    "    cv2.destroyAllWindows()\n"
   ]
  }
 ],
 "metadata": {
  "kernelspec": {
   "display_name": "tmp-carla",
   "language": "python",
   "name": "python3"
  },
  "language_info": {
   "codemirror_mode": {
    "name": "ipython",
    "version": 3
   },
   "file_extension": ".py",
   "mimetype": "text/x-python",
   "name": "python",
   "nbconvert_exporter": "python",
   "pygments_lexer": "ipython3",
   "version": "3.7.12"
  }
 },
 "nbformat": 4,
 "nbformat_minor": 2
}
